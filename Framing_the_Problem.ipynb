{
 "cells": [
  {
   "cell_type": "markdown",
   "id": "b7e7e521-e76c-4c1c-9d71-b406eea06d3a",
   "metadata": {},
   "source": [
    "### 1. Business problem to ml problem\n",
    "### Netflix -> churn rate decrease kare \n",
    "##### * churn rate : user platform chod ke jare in month ya year vo check karna or churn rate kam karna hai\n",
    "##### * Increase revenue"
   ]
  },
  {
   "cell_type": "markdown",
   "id": "67d5032a-6dfd-4d97-b2ef-c95c80d93e9a",
   "metadata": {},
   "source": [
    "### 2. Type of Problem\n",
    "##### #linear hai ya classification\n",
    "##### #Big picture -> end product"
   ]
  },
  {
   "cell_type": "markdown",
   "id": "6f9bf1ac-2f22-43f2-a3f6-6bf44e402e6a",
   "metadata": {},
   "source": [
    "### 3. Current Situation\n",
    "##### Another koi solution hai ky "
   ]
  },
  {
   "cell_type": "markdown",
   "id": "4f831fdc-a512-4d42-a6c0-c76b0c326fb8",
   "metadata": {},
   "source": [
    "### 4. Getting data\n",
    "##### 1. watch time \n",
    "##### 2. Search but did not find\n",
    "##### 3. Content left in the middle \n",
    "##### 4. Clicked on recommendations"
   ]
  },
  {
   "cell_type": "markdown",
   "id": "8aaf0c8b-32bb-4a6a-b8b6-bbb6ef53fcb2",
   "metadata": {},
   "source": [
    "### 5. Metrices to measure\n",
    "### 6. Online Vs Batch ? => Online prefer karege \n",
    "### 7. Check Assumptions \n",
    "#####  feature decide kiye available hai ki nhi\n",
    "#####   every country pr kam karega ki nhi"
   ]
  },
  {
   "cell_type": "code",
   "execution_count": null,
   "id": "e7e681ad-9603-43b0-800f-202a5179cedf",
   "metadata": {},
   "outputs": [],
   "source": []
  }
 ],
 "metadata": {
  "kernelspec": {
   "display_name": "Python 3 (ipykernel)",
   "language": "python",
   "name": "python3"
  },
  "language_info": {
   "codemirror_mode": {
    "name": "ipython",
    "version": 3
   },
   "file_extension": ".py",
   "mimetype": "text/x-python",
   "name": "python",
   "nbconvert_exporter": "python",
   "pygments_lexer": "ipython3",
   "version": "3.12.7"
  }
 },
 "nbformat": 4,
 "nbformat_minor": 5
}
