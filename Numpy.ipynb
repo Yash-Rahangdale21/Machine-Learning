{
 "cells": [
  {
   "cell_type": "code",
   "execution_count": 1,
   "id": "9e695408-8d11-4655-ad3d-d0b8ce966156",
   "metadata": {},
   "outputs": [],
   "source": [
    "## Numpy is low level library written in C for high level mathematical functions."
   ]
  },
  {
   "cell_type": "code",
   "execution_count": null,
   "id": "f6bb17ff-0cce-42c4-9675-8c5bdcc5ed21",
   "metadata": {},
   "outputs": [],
   "source": [
    "### Application of Numpy = N dimension array\n",
    "#### 1 . a powerful N-dimesnional array object\n",
    "#### 2. sophisticatedd (broadcasting) functions\n",
    "#### 3. tools for integrating C/C++ and fortran code \n",
    "#### 4. useful linea algebra ,fourier transform, and random number capabilities"
   ]
  },
  {
   "cell_type": "code",
   "execution_count": null,
   "id": "13949cd1-437e-45fc-a1f9-a51c8d3cd5a6",
   "metadata": {},
   "outputs": [],
   "source": [
    "### properties of array \n",
    "#### homogenous \n",
    "#### only be numbers(number,float,complex)\n",
    "#### fixed item size"
   ]
  },
  {
   "cell_type": "markdown",
   "id": "7360ecb4-3295-426d-a3d0-cb670ff8d3e4",
   "metadata": {},
   "source": [
    "# Creating Numpy Array \n",
    "## 1. using np.array() // 1-d and 2-d\n",
    "## 2. using np.zeros/ones/empty/random()\n",
    "## 3. using np.arange()\n",
    "## 4. using np.linspace()\n",
    "## 5. using copy()\n",
    "## 6. using identity()"
   ]
  },
  {
   "cell_type": "code",
   "execution_count": 7,
   "id": "ddb64a87-7040-41b2-b4bf-83de7f798c33",
   "metadata": {},
   "outputs": [],
   "source": [
    "# create numpy // n-d array\n",
    "import numpy as np"
   ]
  },
  {
   "cell_type": "code",
   "execution_count": 12,
   "id": "30642eaa-beda-4545-8e47-ad0edc746c40",
   "metadata": {},
   "outputs": [
    {
     "data": {
      "text/plain": [
       "array([1, 2, 3, 4])"
      ]
     },
     "execution_count": 12,
     "metadata": {},
     "output_type": "execute_result"
    }
   ],
   "source": [
    "arr = np.array([1,2,3,4])\n",
    "arr"
   ]
  },
  {
   "cell_type": "code",
   "execution_count": 14,
   "id": "df3fc613-5c7d-4933-bac9-3abb5e78d259",
   "metadata": {},
   "outputs": [
    {
     "data": {
      "text/plain": [
       "numpy.ndarray"
      ]
     },
     "execution_count": 14,
     "metadata": {},
     "output_type": "execute_result"
    }
   ],
   "source": [
    "type(arr)"
   ]
  },
  {
   "cell_type": "code",
   "execution_count": 20,
   "id": "558273f0-13ef-4b1e-a6f7-43c6d3c58fd2",
   "metadata": {},
   "outputs": [
    {
     "data": {
      "text/plain": [
       "array([[1, 2, 3],\n",
       "       [4, 5, 6]])"
      ]
     },
     "execution_count": 20,
     "metadata": {},
     "output_type": "execute_result"
    }
   ],
   "source": [
    "arr1= np.array([[1,2,3],[4,5,6]])\n",
    "arr1"
   ]
  },
  {
   "cell_type": "code",
   "execution_count": 24,
   "id": "e8ced52b-c535-44b9-8451-1789c5e7bd7e",
   "metadata": {},
   "outputs": [
    {
     "data": {
      "text/plain": [
       "array([[0., 0., 0.],\n",
       "       [0., 0., 0.]])"
      ]
     },
     "execution_count": 24,
     "metadata": {},
     "output_type": "execute_result"
    }
   ],
   "source": [
    "arr3  = np.zeros((2,3))\n",
    "arr3"
   ]
  },
  {
   "cell_type": "code",
   "execution_count": 28,
   "id": "c56112b9-dd68-4d09-bcd7-75b1e5cfdb9c",
   "metadata": {},
   "outputs": [
    {
     "data": {
      "text/plain": [
       "array([[1., 1., 1.],\n",
       "       [1., 1., 1.]])"
      ]
     },
     "execution_count": 28,
     "metadata": {},
     "output_type": "execute_result"
    }
   ],
   "source": [
    "arr4  = np.ones((2,3))  ## it is gnerate float values\n",
    "arr4"
   ]
  },
  {
   "cell_type": "code",
   "execution_count": 32,
   "id": "9bd0bc6c-7e2d-41e9-9adb-0b34da70aa55",
   "metadata": {},
   "outputs": [
    {
     "name": "stdout",
     "output_type": "stream",
     "text": [
      "[[1. 0. 0. 0. 0.]\n",
      " [0. 1. 0. 0. 0.]\n",
      " [0. 0. 1. 0. 0.]\n",
      " [0. 0. 0. 1. 0.]\n",
      " [0. 0. 0. 0. 1.]]\n"
     ]
    }
   ],
   "source": [
    "arr5 = np.identity(5)\n",
    "print(arr5)"
   ]
  },
  {
   "cell_type": "code",
   "execution_count": 38,
   "id": "76f28c7e-a75a-42bd-b77e-9d2762498c99",
   "metadata": {},
   "outputs": [
    {
     "name": "stdout",
     "output_type": "stream",
     "text": [
      "[ 0  1  2  3  4  5  6  7  8  9 10]\n"
     ]
    }
   ],
   "source": [
    "arr6 = np.arange(11) # arange generate the array in given range\n",
    "print(arr6)"
   ]
  },
  {
   "cell_type": "code",
   "execution_count": 40,
   "id": "14e4cd05-6a77-4128-883d-45203d74aebd",
   "metadata": {},
   "outputs": [
    {
     "name": "stdout",
     "output_type": "stream",
     "text": [
      "[2 5 8]\n"
     ]
    }
   ],
   "source": [
    "arr7 = np.arange(2,10,3) ## 2 is start 10 is end and 3 is jump\n",
    "print(arr7)"
   ]
  },
  {
   "cell_type": "code",
   "execution_count": 48,
   "id": "248f73c8-6ce6-4a9c-ad14-78d63734ce23",
   "metadata": {},
   "outputs": [
    {
     "data": {
      "text/plain": [
       "array([10.  , 11.25, 12.5 , 13.75, 15.  , 16.25, 17.5 , 18.75, 20.  ])"
      ]
     },
     "execution_count": 48,
     "metadata": {},
     "output_type": "execute_result"
    }
   ],
   "source": [
    "arr8 = np.linspace(10,20,9) ## diff bet number are same  ,lower range ,upper range, or number kitna chhiye\n",
    "arr8"
   ]
  },
  {
   "cell_type": "code",
   "execution_count": 52,
   "id": "af33e952-d2a0-49db-a823-7066bb5066c3",
   "metadata": {},
   "outputs": [
    {
     "data": {
      "text/plain": [
       "array([ 0,  1,  2,  3,  4,  5,  6,  7,  8,  9, 10])"
      ]
     },
     "execution_count": 52,
     "metadata": {},
     "output_type": "execute_result"
    }
   ],
   "source": [
    "arr9 =arr6.copy()\n",
    "arr9"
   ]
  },
  {
   "cell_type": "markdown",
   "id": "c8ed6a65-7d25-429c-b7bb-d549ec7e6530",
   "metadata": {},
   "source": [
    "# Numpy Array Properties and  attributes\n",
    "## 1 Shape\n",
    "## 2 ndim\n",
    "## 3 Size\n",
    "## 4 Itemsize\n",
    "## 5 Dtype\n",
    "## 6 astype()"
   ]
  },
  {
   "cell_type": "code",
   "execution_count": 56,
   "id": "fbfc70fd-ce70-4f7b-b67c-885459c61649",
   "metadata": {},
   "outputs": [
    {
     "data": {
      "text/plain": [
       "(2, 3)"
      ]
     },
     "execution_count": 56,
     "metadata": {},
     "output_type": "execute_result"
    }
   ],
   "source": [
    "arr1.shape"
   ]
  },
  {
   "cell_type": "code",
   "execution_count": 60,
   "id": "55107861-77bc-4515-a2c7-9f4358f5bde0",
   "metadata": {},
   "outputs": [
    {
     "data": {
      "text/plain": [
       "(2, 3)"
      ]
     },
     "execution_count": 60,
     "metadata": {},
     "output_type": "execute_result"
    }
   ],
   "source": [
    "arr3.shape"
   ]
  },
  {
   "cell_type": "code",
   "execution_count": 62,
   "id": "4b06f5f2-68ea-4d0e-a344-1fabc77b6641",
   "metadata": {},
   "outputs": [
    {
     "data": {
      "text/plain": [
       "2"
      ]
     },
     "execution_count": 62,
     "metadata": {},
     "output_type": "execute_result"
    }
   ],
   "source": [
    "arr1.ndim"
   ]
  },
  {
   "cell_type": "code",
   "execution_count": 64,
   "id": "5337dbda-d17e-44e4-b5d0-e468d8c0ca46",
   "metadata": {},
   "outputs": [
    {
     "data": {
      "text/plain": [
       "1"
      ]
     },
     "execution_count": 64,
     "metadata": {},
     "output_type": "execute_result"
    }
   ],
   "source": [
    "arr.ndim"
   ]
  },
  {
   "cell_type": "code",
   "execution_count": 66,
   "id": "712dd386-5163-402a-a678-3614acd468cd",
   "metadata": {},
   "outputs": [
    {
     "data": {
      "text/plain": [
       "6"
      ]
     },
     "execution_count": 66,
     "metadata": {},
     "output_type": "execute_result"
    }
   ],
   "source": [
    "arr1.size"
   ]
  },
  {
   "cell_type": "code",
   "execution_count": 70,
   "id": "c1f585fd-a3e9-4e4d-bf29-b7e10a936a01",
   "metadata": {},
   "outputs": [
    {
     "data": {
      "text/plain": [
       "4"
      ]
     },
     "execution_count": 70,
     "metadata": {},
     "output_type": "execute_result"
    }
   ],
   "source": [
    "arr1.itemsize"
   ]
  },
  {
   "cell_type": "code",
   "execution_count": 72,
   "id": "a971f119-1be6-4d7c-b965-d513effc6b5f",
   "metadata": {},
   "outputs": [
    {
     "data": {
      "text/plain": [
       "8"
      ]
     },
     "execution_count": 72,
     "metadata": {},
     "output_type": "execute_result"
    }
   ],
   "source": [
    "arr5.itemsize"
   ]
  },
  {
   "cell_type": "code",
   "execution_count": 76,
   "id": "0226b094-119d-4bd6-a87f-fa1b8726c903",
   "metadata": {},
   "outputs": [
    {
     "name": "stdout",
     "output_type": "stream",
     "text": [
      "float64\n"
     ]
    },
    {
     "data": {
      "text/plain": [
       "dtype('int32')"
      ]
     },
     "execution_count": 76,
     "metadata": {},
     "output_type": "execute_result"
    }
   ],
   "source": [
    "print(arr5.dtype)\n",
    "arr1.dtype"
   ]
  },
  {
   "cell_type": "code",
   "execution_count": 85,
   "id": "c78f334a-5747-4d21-9b9d-e11674da5868",
   "metadata": {},
   "outputs": [
    {
     "data": {
      "text/plain": [
       "array([[1., 2., 3.],\n",
       "       [4., 5., 6.]])"
      ]
     },
     "execution_count": 85,
     "metadata": {},
     "output_type": "execute_result"
    }
   ],
   "source": [
    "## to change the type of data \n",
    "arr1.astype('float')"
   ]
  },
  {
   "cell_type": "markdown",
   "id": "85cc3b73-c688-43e9-a21b-a28d4c38b00f",
   "metadata": {},
   "source": [
    "# Numpy Array Vs Python Lists "
   ]
  },
  {
   "cell_type": "code",
   "execution_count": 98,
   "id": "93be3ae3-b39e-4ddd-beef-ecf6ccaf7b69",
   "metadata": {},
   "outputs": [],
   "source": [
    "# numpy array is faster ,covenient ,less memory"
   ]
  },
  {
   "cell_type": "code",
   "execution_count": 90,
   "id": "6f8720fb-5a44-40ca-897a-6e1679f2a7ff",
   "metadata": {},
   "outputs": [],
   "source": [
    "lista = range(100)\n",
    "arr11 = np.arange(100)"
   ]
  },
  {
   "cell_type": "code",
   "execution_count": 92,
   "id": "7b403eed-0dee-482c-aac7-ee462d29e7e7",
   "metadata": {},
   "outputs": [],
   "source": [
    "import sys"
   ]
  },
  {
   "cell_type": "code",
   "execution_count": 94,
   "id": "7af35c58-7c4e-4306-aee8-8efe0fe09380",
   "metadata": {},
   "outputs": [
    {
     "name": "stdout",
     "output_type": "stream",
     "text": [
      "2800\n"
     ]
    }
   ],
   "source": [
    "## list occupies more memory than numpy array first point is prooof \n",
    "print(sys.getsizeof(87)*len(lista))"
   ]
  },
  {
   "cell_type": "code",
   "execution_count": 96,
   "id": "576ec255-dee5-432e-bf3f-6659ed20b5c8",
   "metadata": {},
   "outputs": [
    {
     "name": "stdout",
     "output_type": "stream",
     "text": [
      "400\n"
     ]
    }
   ],
   "source": [
    "print(arr11.itemsize*arr11.size)"
   ]
  },
  {
   "cell_type": "code",
   "execution_count": 129,
   "id": "07e990c6-8606-42f9-b012-0d966b8e7d4c",
   "metadata": {},
   "outputs": [],
   "source": [
    "## numpy is faster than pyhton list\n",
    "import time"
   ]
  },
  {
   "cell_type": "code",
   "execution_count": 131,
   "id": "335a3673-af52-4e4d-bd66-26b9fda170f1",
   "metadata": {},
   "outputs": [],
   "source": [
    "x = range(100000)\n",
    "y = range(100000,200000)"
   ]
  },
  {
   "cell_type": "code",
   "execution_count": 133,
   "id": "80f6178b-87fd-4a1e-b33f-bb5f43e90f58",
   "metadata": {},
   "outputs": [],
   "source": [
    "st_time= time.time()"
   ]
  },
  {
   "cell_type": "code",
   "execution_count": 135,
   "id": "6013b8cd-b57a-4165-be8c-ae7566e5e154",
   "metadata": {},
   "outputs": [],
   "source": [
    "c = [x+y for x,y in zip(x,y)]"
   ]
  },
  {
   "cell_type": "code",
   "execution_count": 137,
   "id": "7a32756e-a0ec-4ec6-9f13-83b01ecb0225",
   "metadata": {},
   "outputs": [
    {
     "name": "stdout",
     "output_type": "stream",
     "text": [
      "5.514813184738159\n"
     ]
    }
   ],
   "source": [
    "print(time.time()-st_time)"
   ]
  },
  {
   "cell_type": "code",
   "execution_count": 139,
   "id": "c47f51d5-708d-48ac-a837-f307395bbcdc",
   "metadata": {},
   "outputs": [
    {
     "name": "stdout",
     "output_type": "stream",
     "text": [
      "0.0033376216888427734\n"
     ]
    }
   ],
   "source": [
    "a = np.arange(100000)\n",
    "b = np.arange(100000,200000)\n",
    "st_time= time.time()\n",
    "c = a+b\n",
    "print(time.time()-st_time)"
   ]
  },
  {
   "cell_type": "markdown",
   "id": "ccaec314-d08b-4ef3-b29b-25abc2be1979",
   "metadata": {},
   "source": [
    "# Indexing ,Slicing ,Iteration"
   ]
  },
  {
   "cell_type": "code",
   "execution_count": 5,
   "id": "8d5e30bb-3271-4af7-9a83-24b70613e4e0",
   "metadata": {},
   "outputs": [
    {
     "name": "stdout",
     "output_type": "stream",
     "text": [
      "[[ 0  1  2  3  4]\n",
      " [ 5  6  7  8  9]\n",
      " [10 11 12 13 14]\n",
      " [15 16 17 18 19]\n",
      " [20 21 22 23 24]]\n"
     ]
    }
   ],
   "source": [
    "arr12 = np.arange(25).reshape(5,5)\n",
    "print(arr12)"
   ]
  },
  {
   "cell_type": "code",
   "execution_count": 150,
   "id": "d9dd3b0e-8462-4f8c-8109-02f0ac70cb9f",
   "metadata": {},
   "outputs": [
    {
     "data": {
      "text/plain": [
       "array([10, 11, 12, 13, 14])"
      ]
     },
     "execution_count": 150,
     "metadata": {},
     "output_type": "execute_result"
    }
   ],
   "source": [
    "arr12[2]"
   ]
  },
  {
   "cell_type": "code",
   "execution_count": 152,
   "id": "aa9b9d26-9da1-4e6f-8338-6e87e40d3b9b",
   "metadata": {},
   "outputs": [
    {
     "data": {
      "text/plain": [
       "array([[ 5,  6,  7,  8,  9],\n",
       "       [10, 11, 12, 13, 14],\n",
       "       [15, 16, 17, 18, 19]])"
      ]
     },
     "execution_count": 152,
     "metadata": {},
     "output_type": "execute_result"
    }
   ],
   "source": [
    "arr12[1:4] ## is range is row acces kar li mainne "
   ]
  },
  {
   "cell_type": "code",
   "execution_count": 154,
   "id": "37915f2e-1da1-4446-8b2a-1dc72fccee40",
   "metadata": {},
   "outputs": [
    {
     "data": {
      "text/plain": [
       "array([[ 2,  3],\n",
       "       [ 7,  8],\n",
       "       [12, 13],\n",
       "       [17, 18],\n",
       "       [22, 23]])"
      ]
     },
     "execution_count": 154,
     "metadata": {},
     "output_type": "execute_result"
    }
   ],
   "source": [
    "## ab muje particular cols acces karna hai \n",
    "arr12[:,2:4]"
   ]
  },
  {
   "cell_type": "code",
   "execution_count": 156,
   "id": "164693f2-3a39-4d87-bc70-97fde6746c5f",
   "metadata": {},
   "outputs": [
    {
     "data": {
      "text/plain": [
       "array([[18, 19],\n",
       "       [23, 24]])"
      ]
     },
     "execution_count": 156,
     "metadata": {},
     "output_type": "execute_result"
    }
   ],
   "source": [
    "arr12[3:,3:]"
   ]
  },
  {
   "cell_type": "code",
   "execution_count": 158,
   "id": "6b56b8a0-e5bb-4cd7-aa33-c9934beba730",
   "metadata": {},
   "outputs": [
    {
     "data": {
      "text/plain": [
       "array([[ 0,  1,  2,  3,  4],\n",
       "       [ 5,  6,  7,  8,  9],\n",
       "       [10, 11, 12, 13, 14],\n",
       "       [15, 16, 17, 18, 19],\n",
       "       [20, 21, 22, 23, 24]])"
      ]
     },
     "execution_count": 158,
     "metadata": {},
     "output_type": "execute_result"
    }
   ],
   "source": [
    "# Iteration\n",
    "arr12"
   ]
  },
  {
   "cell_type": "code",
   "execution_count": 160,
   "id": "dd537f10-222a-4a43-a8c4-f569efd434ed",
   "metadata": {},
   "outputs": [
    {
     "name": "stdout",
     "output_type": "stream",
     "text": [
      "[0 1 2 3 4]\n",
      "[5 6 7 8 9]\n",
      "[10 11 12 13 14]\n",
      "[15 16 17 18 19]\n",
      "[20 21 22 23 24]\n"
     ]
    }
   ],
   "source": [
    "for i in arr12:\n",
    "    print(i)"
   ]
  },
  {
   "cell_type": "code",
   "execution_count": 162,
   "id": "4e8df21b-fc95-4e3a-9a06-40237f636846",
   "metadata": {},
   "outputs": [
    {
     "name": "stdout",
     "output_type": "stream",
     "text": [
      "0\n",
      "1\n",
      "2\n",
      "3\n",
      "4\n",
      "5\n",
      "6\n",
      "7\n",
      "8\n",
      "9\n",
      "10\n",
      "11\n",
      "12\n",
      "13\n",
      "14\n",
      "15\n",
      "16\n",
      "17\n",
      "18\n",
      "19\n",
      "20\n",
      "21\n",
      "22\n",
      "23\n",
      "24\n"
     ]
    }
   ],
   "source": [
    "for i in np.nditer(arr12):\n",
    "    print(i)"
   ]
  },
  {
   "cell_type": "markdown",
   "id": "832868b6-2997-49b2-a45d-83e2b73eb5c9",
   "metadata": {},
   "source": [
    "# Numpy Array Operation"
   ]
  },
  {
   "cell_type": "code",
   "execution_count": 1,
   "id": "a0b4e77f-a5b1-4969-950a-4faa37a0e558",
   "metadata": {},
   "outputs": [],
   "source": [
    "import numpy as np "
   ]
  },
  {
   "cell_type": "code",
   "execution_count": 7,
   "id": "be327b84-0222-492c-84f4-2b903971924a",
   "metadata": {},
   "outputs": [
    {
     "data": {
      "text/plain": [
       "array([[ 0,  1,  2,  3,  4],\n",
       "       [ 5,  6,  7,  8,  9],\n",
       "       [10, 11, 12, 13, 14],\n",
       "       [15, 16, 17, 18, 19],\n",
       "       [20, 21, 22, 23, 24]])"
      ]
     },
     "execution_count": 7,
     "metadata": {},
     "output_type": "execute_result"
    }
   ],
   "source": [
    "arr12"
   ]
  },
  {
   "cell_type": "code",
   "execution_count": 10,
   "id": "31b9828e-574e-42ab-a825-bc97cf100e86",
   "metadata": {},
   "outputs": [],
   "source": [
    "arr1  = np.array([1,2,3,4])\n",
    "arr2 = np.array([4,5,6,7])"
   ]
  },
  {
   "cell_type": "code",
   "execution_count": 13,
   "id": "44203a0f-663b-4521-9347-c496f8292e1c",
   "metadata": {},
   "outputs": [
    {
     "data": {
      "text/plain": [
       "array([-3, -3, -3, -3])"
      ]
     },
     "execution_count": 13,
     "metadata": {},
     "output_type": "execute_result"
    }
   ],
   "source": [
    "arr1-arr2"
   ]
  },
  {
   "cell_type": "code",
   "execution_count": 22,
   "id": "98316c32-3aed-42e2-bb32-b1f9cee19cae",
   "metadata": {},
   "outputs": [
    {
     "data": {
      "text/plain": [
       "array([ 4, 10, 18, 28])"
      ]
     },
     "execution_count": 22,
     "metadata": {},
     "output_type": "execute_result"
    }
   ],
   "source": [
    "arr1*arr2 # vector multiplication"
   ]
  },
  {
   "cell_type": "code",
   "execution_count": 20,
   "id": "16620cef-7249-49b5-8f00-47891f736b30",
   "metadata": {},
   "outputs": [
    {
     "data": {
      "text/plain": [
       "array([2, 4, 6, 8])"
      ]
     },
     "execution_count": 20,
     "metadata": {},
     "output_type": "execute_result"
    }
   ],
   "source": [
    "arr1*2  ## Scalar multiplication"
   ]
  },
  {
   "cell_type": "code",
   "execution_count": 25,
   "id": "1f9458be-8475-402a-a079-82735b1bf36a",
   "metadata": {},
   "outputs": [
    {
     "data": {
      "text/plain": [
       "array([ True,  True,  True,  True])"
      ]
     },
     "execution_count": 25,
     "metadata": {},
     "output_type": "execute_result"
    }
   ],
   "source": [
    "arr2>3"
   ]
  },
  {
   "cell_type": "code",
   "execution_count": 31,
   "id": "3ae265dd-b64a-4775-a554-fd2c14038088",
   "metadata": {},
   "outputs": [
    {
     "name": "stdout",
     "output_type": "stream",
     "text": [
      "[[0 1 2]\n",
      " [3 4 5]]\n"
     ]
    },
    {
     "data": {
      "text/plain": [
       "array([[ 6,  7],\n",
       "       [ 8,  9],\n",
       "       [10, 11]])"
      ]
     },
     "execution_count": 31,
     "metadata": {},
     "output_type": "execute_result"
    }
   ],
   "source": [
    "arr3 = np.arange(6).reshape(2,3)\n",
    "arr4 = np.arange(6,12).reshape(3,2)\n",
    "print(arr3)\n",
    "arr4"
   ]
  },
  {
   "cell_type": "code",
   "execution_count": 33,
   "id": "308ac45c-01fa-4d54-b221-611f5f40ec0b",
   "metadata": {},
   "outputs": [
    {
     "data": {
      "text/plain": [
       "array([[ 28,  31],\n",
       "       [100, 112]])"
      ]
     },
     "execution_count": 33,
     "metadata": {},
     "output_type": "execute_result"
    }
   ],
   "source": [
    "arr3.dot(arr4)"
   ]
  },
  {
   "cell_type": "code",
   "execution_count": 35,
   "id": "c4d55934-4f80-415e-94f9-c84176a2e207",
   "metadata": {},
   "outputs": [
    {
     "name": "stdout",
     "output_type": "stream",
     "text": [
      "0\n",
      "11\n"
     ]
    }
   ],
   "source": [
    "print(arr3.min())\n",
    "print(arr4.max())"
   ]
  },
  {
   "cell_type": "code",
   "execution_count": 47,
   "id": "6aacdfb2-d04a-40c8-aa9b-da6679374472",
   "metadata": {},
   "outputs": [
    {
     "name": "stdout",
     "output_type": "stream",
     "text": [
      "[6 7]\n",
      "[10 11]\n"
     ]
    }
   ],
   "source": [
    "print(arr4.min(axis=0)) # axis = 0 matb col me se batao min kon hai\n",
    "print(arr4.max(axis=0)) # axis =0  matlb cols me batao max kon hai "
   ]
  },
  {
   "cell_type": "code",
   "execution_count": 49,
   "id": "8a442394-6763-4f03-a653-c0a39192c3ec",
   "metadata": {},
   "outputs": [
    {
     "name": "stdout",
     "output_type": "stream",
     "text": [
      "[ 6  8 10]\n",
      "[ 7  9 11]\n"
     ]
    }
   ],
   "source": [
    "print(arr4.min(axis=1)) # axis =1 matlb row wise kon chota hai \n",
    "print(arr4.max(axis=1)) # axis =1 matlb row wise kon bada hai "
   ]
  },
  {
   "cell_type": "code",
   "execution_count": 51,
   "id": "63337f44-0df8-400d-95d8-c001e94dd41d",
   "metadata": {},
   "outputs": [
    {
     "data": {
      "text/plain": [
       "51"
      ]
     },
     "execution_count": 51,
     "metadata": {},
     "output_type": "execute_result"
    }
   ],
   "source": [
    "arr4.sum()"
   ]
  },
  {
   "cell_type": "code",
   "execution_count": 53,
   "id": "6381a79a-fe8a-40cd-8a94-0a26c549f445",
   "metadata": {},
   "outputs": [
    {
     "data": {
      "text/plain": [
       "array([24, 27])"
      ]
     },
     "execution_count": 53,
     "metadata": {},
     "output_type": "execute_result"
    }
   ],
   "source": [
    "arr4.sum(axis=0)"
   ]
  },
  {
   "cell_type": "code",
   "execution_count": 55,
   "id": "e3d56822-0675-4aef-b41f-32ca8c26e4a0",
   "metadata": {},
   "outputs": [
    {
     "data": {
      "text/plain": [
       "array([13, 17, 21])"
      ]
     },
     "execution_count": 55,
     "metadata": {},
     "output_type": "execute_result"
    }
   ],
   "source": [
    "arr4.sum(axis=1)"
   ]
  },
  {
   "cell_type": "code",
   "execution_count": 57,
   "id": "224c09b1-0d93-48a1-8a89-b236bdb95598",
   "metadata": {},
   "outputs": [
    {
     "data": {
      "text/plain": [
       "8.5"
      ]
     },
     "execution_count": 57,
     "metadata": {},
     "output_type": "execute_result"
    }
   ],
   "source": [
    "arr4.mean()"
   ]
  },
  {
   "cell_type": "code",
   "execution_count": 59,
   "id": "c1a9a5f3-2292-4000-a2ae-1fba3591e7f2",
   "metadata": {},
   "outputs": [
    {
     "data": {
      "text/plain": [
       "1.707825127659933"
      ]
     },
     "execution_count": 59,
     "metadata": {},
     "output_type": "execute_result"
    }
   ],
   "source": [
    "arr4.std() # std means standard deviation"
   ]
  },
  {
   "cell_type": "code",
   "execution_count": 61,
   "id": "6538ed20-d010-480d-9c93-c69078e61a77",
   "metadata": {},
   "outputs": [
    {
     "data": {
      "text/plain": [
       "array([[-0.2794155 ,  0.6569866 ],\n",
       "       [ 0.98935825,  0.41211849],\n",
       "       [-0.54402111, -0.99999021]])"
      ]
     },
     "execution_count": 61,
     "metadata": {},
     "output_type": "execute_result"
    }
   ],
   "source": [
    "np.sin(arr4)"
   ]
  },
  {
   "cell_type": "code",
   "execution_count": 63,
   "id": "fa864cd1-153f-4fdf-80c9-494d113c335b",
   "metadata": {},
   "outputs": [
    {
     "data": {
      "text/plain": [
       "8.5"
      ]
     },
     "execution_count": 63,
     "metadata": {},
     "output_type": "execute_result"
    }
   ],
   "source": [
    "np.median(arr4)"
   ]
  },
  {
   "cell_type": "code",
   "execution_count": 65,
   "id": "16a81000-e685-4607-a0d9-56e88e015478",
   "metadata": {},
   "outputs": [
    {
     "data": {
      "text/plain": [
       "array([[  403.42879349,  1096.63315843],\n",
       "       [ 2980.95798704,  8103.08392758],\n",
       "       [22026.46579481, 59874.1417152 ]])"
      ]
     },
     "execution_count": 65,
     "metadata": {},
     "output_type": "execute_result"
    }
   ],
   "source": [
    "np.exp(arr4) #exponential"
   ]
  },
  {
   "cell_type": "markdown",
   "id": "27b7b9a4-5f63-463b-95f9-705f0c71a794",
   "metadata": {},
   "source": [
    "# Reshaping numpy  array\n",
    "## Ravel\n",
    "## reshape\n",
    "## Transpose\n",
    "## Stacking\n",
    "## splitting"
   ]
  },
  {
   "cell_type": "code",
   "execution_count": 69,
   "id": "bcbfef11-41a4-444a-ab32-aba3e3a93572",
   "metadata": {},
   "outputs": [
    {
     "data": {
      "text/plain": [
       "2"
      ]
     },
     "execution_count": 69,
     "metadata": {},
     "output_type": "execute_result"
    }
   ],
   "source": [
    "# ravel\n",
    "arr4.ndim"
   ]
  },
  {
   "cell_type": "code",
   "execution_count": 75,
   "id": "946705c5-ff5d-4527-a197-e14269a93f3a",
   "metadata": {},
   "outputs": [
    {
     "data": {
      "text/plain": [
       "array([ 6,  7,  8,  9, 10, 11])"
      ]
     },
     "execution_count": 75,
     "metadata": {},
     "output_type": "execute_result"
    }
   ],
   "source": [
    "arr4.ravel() ## higher level array convert in one d array"
   ]
  },
  {
   "cell_type": "code",
   "execution_count": 79,
   "id": "5f4c3c6f-3482-4295-acd5-86ebcba8bfad",
   "metadata": {},
   "outputs": [
    {
     "name": "stdout",
     "output_type": "stream",
     "text": [
      "[[ 6  7]\n",
      " [ 8  9]\n",
      " [10 11]]\n"
     ]
    },
    {
     "data": {
      "text/plain": [
       "array([[ 6,  8, 10],\n",
       "       [ 7,  9, 11]])"
      ]
     },
     "execution_count": 79,
     "metadata": {},
     "output_type": "execute_result"
    }
   ],
   "source": [
    "# Transpose\n",
    "print(arr4)\n",
    "arr4.transpose()"
   ]
  },
  {
   "cell_type": "code",
   "execution_count": 85,
   "id": "26d4be76-bdce-4987-bc10-18e42960d36e",
   "metadata": {},
   "outputs": [
    {
     "name": "stdout",
     "output_type": "stream",
     "text": [
      "[[12 13 14]\n",
      " [15 16 17]]\n"
     ]
    }
   ],
   "source": [
    "#stacking\n",
    "arr5 = np.arange(12,18).reshape(2,3)\n",
    "print(arr5)"
   ]
  },
  {
   "cell_type": "code",
   "execution_count": 87,
   "id": "7b3c76e5-70a3-4dfb-9e39-d6aa6405ac1f",
   "metadata": {},
   "outputs": [
    {
     "name": "stdout",
     "output_type": "stream",
     "text": [
      "[[0 1 2]\n",
      " [3 4 5]]\n"
     ]
    }
   ],
   "source": [
    "print(arr3)"
   ]
  },
  {
   "cell_type": "code",
   "execution_count": 89,
   "id": "fa61207f-6c05-47c3-b342-6a6df0215b1d",
   "metadata": {},
   "outputs": [
    {
     "data": {
      "text/plain": [
       "array([[ 0,  1,  2, 12, 13, 14],\n",
       "       [ 3,  4,  5, 15, 16, 17]])"
      ]
     },
     "execution_count": 89,
     "metadata": {},
     "output_type": "execute_result"
    }
   ],
   "source": [
    "np.hstack((arr3,arr5))"
   ]
  },
  {
   "cell_type": "code",
   "execution_count": 93,
   "id": "ce71629c-d805-49f4-a392-64b62c8c7023",
   "metadata": {},
   "outputs": [
    {
     "data": {
      "text/plain": [
       "array([[ 0,  1,  2],\n",
       "       [ 3,  4,  5],\n",
       "       [12, 13, 14],\n",
       "       [15, 16, 17]])"
      ]
     },
     "execution_count": 93,
     "metadata": {},
     "output_type": "execute_result"
    }
   ],
   "source": [
    "np.vstack((arr3,arr5))"
   ]
  },
  {
   "cell_type": "code",
   "execution_count": 95,
   "id": "849f162c-bff9-4010-b1b1-b8c416436652",
   "metadata": {},
   "outputs": [
    {
     "data": {
      "text/plain": [
       "[array([[0, 1, 2]]), array([[3, 4, 5]])]"
      ]
     },
     "execution_count": 95,
     "metadata": {},
     "output_type": "execute_result"
    }
   ],
   "source": [
    "np.vsplit(arr3,2)"
   ]
  },
  {
   "cell_type": "markdown",
   "id": "ae0892f6-1010-4425-a910-7e2aa8238132",
   "metadata": {},
   "source": [
    "# Fancy indexing"
   ]
  },
  {
   "cell_type": "code",
   "execution_count": 100,
   "id": "91ee7cf2-4f73-4d93-8d8e-bd853320d54e",
   "metadata": {},
   "outputs": [
    {
     "name": "stdout",
     "output_type": "stream",
     "text": [
      "[[ 0  1  2  3]\n",
      " [ 4  5  6  7]\n",
      " [ 8  9 10 11]\n",
      " [12 13 14 15]\n",
      " [16 17 18 19]\n",
      " [20 21 22 23]]\n"
     ]
    }
   ],
   "source": [
    "arr8 = np.arange(24).reshape(6,4)\n",
    "print(arr8)"
   ]
  },
  {
   "cell_type": "code",
   "execution_count": 102,
   "id": "9e0c7ac5-adf7-4b69-80e0-38a05d0f240c",
   "metadata": {},
   "outputs": [
    {
     "data": {
      "text/plain": [
       "array([[ 0,  1,  2,  3],\n",
       "       [ 8,  9, 10, 11],\n",
       "       [16, 17, 18, 19]])"
      ]
     },
     "execution_count": 102,
     "metadata": {},
     "output_type": "execute_result"
    }
   ],
   "source": [
    "arr8[[0,2,4]] # it is work on row as well as cols but this example it apply on rows"
   ]
  },
  {
   "cell_type": "markdown",
   "id": "62fa602e-ba80-4cb3-bd4c-dc0565576ee5",
   "metadata": {},
   "source": [
    "# Indexing with boolean array"
   ]
  },
  {
   "cell_type": "code",
   "execution_count": 105,
   "id": "e6c26236-4c02-4259-af7e-cb8e7c6362c0",
   "metadata": {},
   "outputs": [],
   "source": [
    "arr = np.random.randint(low=1,high=100,size=20).reshape(4,5)"
   ]
  },
  {
   "cell_type": "code",
   "execution_count": 111,
   "id": "1db43898-a05c-4776-ad34-97436dc62f77",
   "metadata": {},
   "outputs": [
    {
     "name": "stdout",
     "output_type": "stream",
     "text": [
      "[[80 38 37  4 65]\n",
      " [ 4 79 73 83 58]\n",
      " [92 17 44 69 66]\n",
      " [55 88 94  5 80]]\n"
     ]
    }
   ],
   "source": [
    "print(arr)"
   ]
  },
  {
   "cell_type": "code",
   "execution_count": 117,
   "id": "db2e7455-e93a-4193-bb13-a94ded4bbd71",
   "metadata": {},
   "outputs": [
    {
     "data": {
      "text/plain": [
       "array([[ True, False, False, False,  True],\n",
       "       [False,  True,  True,  True,  True],\n",
       "       [ True, False, False,  True,  True],\n",
       "       [ True,  True,  True, False,  True]])"
      ]
     },
     "execution_count": 117,
     "metadata": {},
     "output_type": "execute_result"
    }
   ],
   "source": [
    "(arr>50)"
   ]
  },
  {
   "cell_type": "code",
   "execution_count": 119,
   "id": "5bcb51b2-1baa-4de7-a298-f531600887c9",
   "metadata": {},
   "outputs": [
    {
     "data": {
      "text/plain": [
       "(4, 5)"
      ]
     },
     "execution_count": 119,
     "metadata": {},
     "output_type": "execute_result"
    }
   ],
   "source": [
    "(arr>50).shape"
   ]
  },
  {
   "cell_type": "code",
   "execution_count": 123,
   "id": "be892f52-2297-4fd5-800c-3e884d1fc7ae",
   "metadata": {},
   "outputs": [
    {
     "data": {
      "text/plain": [
       "array([80, 65, 79, 73, 83, 58, 92, 69, 66, 55, 88, 94, 80])"
      ]
     },
     "execution_count": 123,
     "metadata": {},
     "output_type": "execute_result"
    }
   ],
   "source": [
    "arr[arr>50] # indexing using boolean  array / filtering the array"
   ]
  },
  {
   "cell_type": "code",
   "execution_count": 129,
   "id": "923a54f4-67e0-49c6-b5d5-d55b701b2fcc",
   "metadata": {},
   "outputs": [
    {
     "data": {
      "text/plain": [
       "array([65, 79, 73, 83, 69, 55])"
      ]
     },
     "execution_count": 129,
     "metadata": {},
     "output_type": "execute_result"
    }
   ],
   "source": [
    "arr[(arr>50) & (arr % 2 !=0)]"
   ]
  },
  {
   "cell_type": "code",
   "execution_count": 131,
   "id": "9aa717e9-1a83-4ae7-b5a5-e645804fc921",
   "metadata": {},
   "outputs": [],
   "source": [
    "arr[(arr>50) & (arr % 2 !=0)] = 0"
   ]
  },
  {
   "cell_type": "code",
   "execution_count": 133,
   "id": "8429cd9d-5b76-4d0b-9f86-376ac9975057",
   "metadata": {},
   "outputs": [
    {
     "data": {
      "text/plain": [
       "array([[80, 38, 37,  4,  0],\n",
       "       [ 4,  0,  0,  0, 58],\n",
       "       [92, 17, 44,  0, 66],\n",
       "       [ 0, 88, 94,  5, 80]])"
      ]
     },
     "execution_count": 133,
     "metadata": {},
     "output_type": "execute_result"
    }
   ],
   "source": [
    "arr"
   ]
  },
  {
   "cell_type": "markdown",
   "id": "403345f1-823c-4a0a-88e7-517676e4fbee",
   "metadata": {},
   "source": [
    "# Plotting graph using numpy"
   ]
  },
  {
   "cell_type": "code",
   "execution_count": 136,
   "id": "a9389388-fd81-4c13-a66f-d7e675166210",
   "metadata": {},
   "outputs": [
    {
     "name": "stdout",
     "output_type": "stream",
     "text": [
      "[-40.         -39.19191919 -38.38383838 -37.57575758 -36.76767677\n",
      " -35.95959596 -35.15151515 -34.34343434 -33.53535354 -32.72727273\n",
      " -31.91919192 -31.11111111 -30.3030303  -29.49494949 -28.68686869\n",
      " -27.87878788 -27.07070707 -26.26262626 -25.45454545 -24.64646465\n",
      " -23.83838384 -23.03030303 -22.22222222 -21.41414141 -20.60606061\n",
      " -19.7979798  -18.98989899 -18.18181818 -17.37373737 -16.56565657\n",
      " -15.75757576 -14.94949495 -14.14141414 -13.33333333 -12.52525253\n",
      " -11.71717172 -10.90909091 -10.1010101   -9.29292929  -8.48484848\n",
      "  -7.67676768  -6.86868687  -6.06060606  -5.25252525  -4.44444444\n",
      "  -3.63636364  -2.82828283  -2.02020202  -1.21212121  -0.4040404\n",
      "   0.4040404    1.21212121   2.02020202   2.82828283   3.63636364\n",
      "   4.44444444   5.25252525   6.06060606   6.86868687   7.67676768\n",
      "   8.48484848   9.29292929  10.1010101   10.90909091  11.71717172\n",
      "  12.52525253  13.33333333  14.14141414  14.94949495  15.75757576\n",
      "  16.56565657  17.37373737  18.18181818  18.98989899  19.7979798\n",
      "  20.60606061  21.41414141  22.22222222  23.03030303  23.83838384\n",
      "  24.64646465  25.45454545  26.26262626  27.07070707  27.87878788\n",
      "  28.68686869  29.49494949  30.3030303   31.11111111  31.91919192\n",
      "  32.72727273  33.53535354  34.34343434  35.15151515  35.95959596\n",
      "  36.76767677  37.57575758  38.38383838  39.19191919  40.        ]\n"
     ]
    }
   ],
   "source": [
    "x = np.linspace(-40,40,100)\n",
    "print(x)"
   ]
  },
  {
   "cell_type": "code",
   "execution_count": 138,
   "id": "bb33e29e-bbd9-4232-a66e-bccdafa9839e",
   "metadata": {},
   "outputs": [
    {
     "data": {
      "text/plain": [
       "100"
      ]
     },
     "execution_count": 138,
     "metadata": {},
     "output_type": "execute_result"
    }
   ],
   "source": [
    "x.size"
   ]
  },
  {
   "cell_type": "code",
   "execution_count": 140,
   "id": "f952085b-15b7-4652-8324-3606d400f0f7",
   "metadata": {},
   "outputs": [],
   "source": [
    "y = np.sin(x)"
   ]
  },
  {
   "cell_type": "code",
   "execution_count": 142,
   "id": "7a6d1834-656d-4f1e-a89f-607718592d0e",
   "metadata": {},
   "outputs": [
    {
     "data": {
      "text/plain": [
       "100"
      ]
     },
     "execution_count": 142,
     "metadata": {},
     "output_type": "execute_result"
    }
   ],
   "source": [
    "y.size"
   ]
  },
  {
   "cell_type": "code",
   "execution_count": 172,
   "id": "95dd063c-6cd0-45a3-9576-0de5e00b831e",
   "metadata": {},
   "outputs": [],
   "source": [
    "import matplotlib.pyplot as plt\n",
    "%matplotlib inline  "
   ]
  },
  {
   "cell_type": "code",
   "execution_count": 174,
   "id": "451de777-7e25-42df-b002-58f8a68febd4",
   "metadata": {},
   "outputs": [],
   "source": [
    "## above line is for print the graph"
   ]
  },
  {
   "cell_type": "code",
   "execution_count": 190,
   "id": "00e33dec-8984-45f9-808b-b82ba290f471",
   "metadata": {},
   "outputs": [
    {
     "data": {
      "text/plain": [
       "[<matplotlib.lines.Line2D at 0x1ada6c06ba0>]"
      ]
     },
     "execution_count": 190,
     "metadata": {},
     "output_type": "execute_result"
    }
   ],
   "source": [
    "plt.plot(x,y)"
   ]
  },
  {
   "cell_type": "code",
   "execution_count": 192,
   "id": "e72196ce-bcc9-48aa-b9c3-b8a3fa18302f",
   "metadata": {},
   "outputs": [],
   "source": [
    "y = x*x+2*x+6"
   ]
  },
  {
   "cell_type": "code",
   "execution_count": 194,
   "id": "7f7fda8c-ecf0-4e26-af1f-4d8950ab53b7",
   "metadata": {},
   "outputs": [
    {
     "data": {
      "text/plain": [
       "[<matplotlib.lines.Line2D at 0x1ada6c05820>]"
      ]
     },
     "execution_count": 194,
     "metadata": {},
     "output_type": "execute_result"
    }
   ],
   "source": [
    "plt.plot(x,y)"
   ]
  },
  {
   "cell_type": "markdown",
   "id": "52be4bc0-d6c7-4e74-a97b-910f567e8891",
   "metadata": {},
   "source": [
    "# Broadcasting"
   ]
  },
  {
   "cell_type": "code",
   "execution_count": 211,
   "id": "be4979c0-0c4c-4573-b3de-f9632221301c",
   "metadata": {},
   "outputs": [],
   "source": [
    "#### broadcasting is ability of numpy perform arithmetric operation on dissimilar array . "
   ]
  },
  {
   "cell_type": "code",
   "execution_count": 213,
   "id": "bd2a80c9-03fb-47b5-a707-6279246d4c2c",
   "metadata": {},
   "outputs": [],
   "source": [
    "a1 = np.arange(9).reshape(3,3)\n",
    "a2 = np.arange(3).reshape(1,3)"
   ]
  },
  {
   "cell_type": "code",
   "execution_count": 215,
   "id": "004c4557-e068-42da-aa84-d2182dccc534",
   "metadata": {},
   "outputs": [
    {
     "name": "stdout",
     "output_type": "stream",
     "text": [
      "[[0 1 2]\n",
      " [3 4 5]\n",
      " [6 7 8]] [[0 1 2]]\n"
     ]
    }
   ],
   "source": [
    "print(a1,a2)"
   ]
  },
  {
   "cell_type": "code",
   "execution_count": 217,
   "id": "7b40c16d-5ce9-4a4e-a902-22b8e397d092",
   "metadata": {},
   "outputs": [
    {
     "data": {
      "text/plain": [
       "array([[ 0,  2,  4],\n",
       "       [ 3,  5,  7],\n",
       "       [ 6,  8, 10]])"
      ]
     },
     "execution_count": 217,
     "metadata": {},
     "output_type": "execute_result"
    }
   ],
   "source": [
    "a1+a2"
   ]
  },
  {
   "cell_type": "code",
   "execution_count": 207,
   "id": "e3dfeb52-af00-4af4-ad9e-a55db1d1631a",
   "metadata": {},
   "outputs": [],
   "source": [
    "## above concept is broadcasting"
   ]
  },
  {
   "cell_type": "markdown",
   "id": "f2270b3d-c1ce-49d9-8643-0f5530de512e",
   "metadata": {},
   "source": [
    "## Rules for Broadcasting"
   ]
  },
  {
   "cell_type": "code",
   "execution_count": 221,
   "id": "dddddc80-04b8-450a-a087-27d9002aeca1",
   "metadata": {},
   "outputs": [
    {
     "data": {
      "text/plain": [
       "array([[ 8, 10, 12, 14],\n",
       "       [16, 18, 20, 22]])"
      ]
     },
     "execution_count": 221,
     "metadata": {},
     "output_type": "execute_result"
    }
   ],
   "source": [
    "# If x=m and y=n ,operation will take place \n",
    "a1 = np.arange(8).reshape(2,4)\n",
    "a2 = np.arange(8,16).reshape(2,4)\n",
    "\n",
    "a1+a2"
   ]
  },
  {
   "cell_type": "code",
   "execution_count": 227,
   "id": "6b521b04-65ba-453c-a658-cbab988b73b2",
   "metadata": {},
   "outputs": [
    {
     "name": "stdout",
     "output_type": "stream",
     "text": [
      "[[0 1 2]]\n",
      "[[ 0  1  2]\n",
      " [ 3  4  5]\n",
      " [ 6  7  8]\n",
      " [ 9 10 11]]\n",
      "tha answer is : \n",
      "[[ 0  2  4]\n",
      " [ 3  5  7]\n",
      " [ 6  8 10]\n",
      " [ 9 11 13]]\n"
     ]
    }
   ],
   "source": [
    "# if x = 1 and y = n then also operation will take place(same dimension) \n",
    "a5 = np.arange(3).reshape(1,3)  # jab ek isme 1 hai to uske aage wala dim dusre wale me present hai operation ho jayega \n",
    "a6 = np.arange(12).reshape(4,3)\n",
    "\n",
    "print(a5)\n",
    "print(a6)\n",
    "print(\"tha answer is : \")\n",
    "print(a5+a6)"
   ]
  },
  {
   "cell_type": "code",
   "execution_count": 231,
   "id": "ad58ae95-fd59-4361-a576-8c2742c58252",
   "metadata": {},
   "outputs": [
    {
     "name": "stdout",
     "output_type": "stream",
     "text": [
      "[[0 1 2]]\n",
      "[[ 0  1  2  3]\n",
      " [ 4  5  6  7]\n",
      " [ 8  9 10 11]\n",
      " [12 13 14 15]]\n"
     ]
    }
   ],
   "source": [
    "# if x = 1 and y != n then also operstion will not take place\n",
    "a7 = np.arange(3).reshape(1,3)  # 1 hai pr corresponding same nhi hai tab vo operation nhi hoga \n",
    "a8 = np.arange(16).reshape(4,4)\n",
    "print(a7)\n",
    "print(a8)"
   ]
  },
  {
   "cell_type": "code",
   "execution_count": 233,
   "id": "832fb329-11ee-41e7-a045-b5e1f785a082",
   "metadata": {},
   "outputs": [
    {
     "name": "stdout",
     "output_type": "stream",
     "text": [
      "the ans : \n"
     ]
    },
    {
     "ename": "ValueError",
     "evalue": "operands could not be broadcast together with shapes (1,3) (4,4) ",
     "output_type": "error",
     "traceback": [
      "\u001b[1;31m---------------------------------------------------------------------------\u001b[0m",
      "\u001b[1;31mValueError\u001b[0m                                Traceback (most recent call last)",
      "Cell \u001b[1;32mIn[233], line 2\u001b[0m\n\u001b[0;32m      1\u001b[0m \u001b[38;5;28mprint\u001b[39m(\u001b[38;5;124m\"\u001b[39m\u001b[38;5;124mthe ans : \u001b[39m\u001b[38;5;124m\"\u001b[39m )\n\u001b[1;32m----> 2\u001b[0m \u001b[38;5;28mprint\u001b[39m(a7\u001b[38;5;241m+\u001b[39ma8)\n",
      "\u001b[1;31mValueError\u001b[0m: operands could not be broadcast together with shapes (1,3) (4,4) "
     ]
    }
   ],
   "source": [
    "print(\"the ans : \" )\n",
    "print(a7+a8)"
   ]
  },
  {
   "cell_type": "code",
   "execution_count": 237,
   "id": "c75f057e-b710-446a-904b-54c1c8b476c5",
   "metadata": {},
   "outputs": [
    {
     "name": "stdout",
     "output_type": "stream",
     "text": [
      "[[0 1 2]]\n",
      "[[0]\n",
      " [1]\n",
      " [2]]\n"
     ]
    }
   ],
   "source": [
    "# if x =1 and n = 1 then y == m ,operation to take place\n",
    "a11 = np.arange(3).reshape(1,3) # one hai to uska correspond dusre isme m=bhi ho\n",
    "a12 = np.arange(3).reshape(3,1)\n",
    "print(a11)\n",
    "print(a12)"
   ]
  },
  {
   "cell_type": "code",
   "execution_count": 239,
   "id": "383c8b6b-e915-4319-b12a-79231d03759d",
   "metadata": {},
   "outputs": [
    {
     "name": "stdout",
     "output_type": "stream",
     "text": [
      "[[0 1 2]\n",
      " [1 2 3]\n",
      " [2 3 4]]\n"
     ]
    }
   ],
   "source": [
    "print(a11+a12)"
   ]
  },
  {
   "cell_type": "code",
   "execution_count": 241,
   "id": "5ec9c111-600d-47d8-bf0d-26159ddc0998",
   "metadata": {},
   "outputs": [
    {
     "name": "stdout",
     "output_type": "stream",
     "text": [
      "[[0]]\n",
      "[[ 0  1  2  3  4]\n",
      " [ 5  6  7  8  9]\n",
      " [10 11 12 13 14]\n",
      " [15 16 17 18 19]]\n"
     ]
    }
   ],
   "source": [
    "# if x = 1 and y =1 , then the operation will take place no  matter what \n",
    "\n",
    "a13 = np.arange(1).reshape(1,1) \n",
    "a14 = np.arange(20).reshape(4,5)\n",
    "\n",
    "print(a13)\n",
    "print(a14)"
   ]
  },
  {
   "cell_type": "code",
   "execution_count": 243,
   "id": "61b7b8b1-4b0e-4b5d-a1e1-bb3b03c294c1",
   "metadata": {},
   "outputs": [
    {
     "name": "stdout",
     "output_type": "stream",
     "text": [
      "[[ 0  1  2  3  4]\n",
      " [ 5  6  7  8  9]\n",
      " [10 11 12 13 14]\n",
      " [15 16 17 18 19]]\n"
     ]
    }
   ],
   "source": [
    "print(a13+a14)"
   ]
  },
  {
   "cell_type": "code",
   "execution_count": 245,
   "id": "f03c253e-50b4-49f0-bfb9-ac5cc2fa8ba8",
   "metadata": {},
   "outputs": [
    {
     "name": "stdout",
     "output_type": "stream",
     "text": [
      "[0 1 2 3]\n",
      "[[ 0  1  2  3]\n",
      " [ 4  5  6  7]\n",
      " [ 8  9 10 11]\n",
      " [12 13 14 15]\n",
      " [16 17 18 19]]\n"
     ]
    }
   ],
   "source": [
    "# if they are of different dimesnsions\n",
    "\n",
    "a15 = np.arange(4)\n",
    "a16 = np.arange(20).reshape(5,4)\n",
    "\n",
    "print(a15)\n",
    "print(a16)"
   ]
  },
  {
   "cell_type": "code",
   "execution_count": 247,
   "id": "5df9fb7c-863e-455d-b8e1-29d7673a8eff",
   "metadata": {},
   "outputs": [
    {
     "name": "stdout",
     "output_type": "stream",
     "text": [
      "[[ 0  2  4  6]\n",
      " [ 4  6  8 10]\n",
      " [ 8 10 12 14]\n",
      " [12 14 16 18]\n",
      " [16 18 20 22]]\n"
     ]
    }
   ],
   "source": [
    "print(a15+a16)"
   ]
  },
  {
   "cell_type": "markdown",
   "id": "eac26827-455e-4c7f-9713-2c690306c4af",
   "metadata": {},
   "source": [
    "# Numpy Functions"
   ]
  },
  {
   "cell_type": "code",
   "execution_count": 256,
   "id": "2b1ab7d9-071e-4f1b-8e54-d9ee42aab8f0",
   "metadata": {},
   "outputs": [
    {
     "data": {
      "text/plain": [
       "0.1556789619666633"
      ]
     },
     "execution_count": 256,
     "metadata": {},
     "output_type": "execute_result"
    }
   ],
   "source": [
    "np.random.random()"
   ]
  },
  {
   "cell_type": "code",
   "execution_count": 275,
   "id": "25c80e51-31d0-4f65-ad98-ecf389ae8e4b",
   "metadata": {},
   "outputs": [
    {
     "data": {
      "text/plain": [
       "0.417022004702574"
      ]
     },
     "execution_count": 275,
     "metadata": {},
     "output_type": "execute_result"
    }
   ],
   "source": [
    "np.random.seed(1)  # it is show constant output value\n",
    "np.random.random()"
   ]
  },
  {
   "cell_type": "raw",
   "id": "4ca61d13-7e62-4fc8-a6db-69cdf26d19d8",
   "metadata": {},
   "source": []
  },
  {
   "cell_type": "code",
   "execution_count": null,
   "id": "c2c9d912-69bb-4e9b-993c-0c7c7b4a7272",
   "metadata": {},
   "outputs": [],
   "source": []
  },
  {
   "cell_type": "code",
   "execution_count": null,
   "id": "32bd5353-b48b-4883-9924-01fe3e8b8cba",
   "metadata": {},
   "outputs": [],
   "source": []
  }
 ],
 "metadata": {
  "kernelspec": {
   "display_name": "Python 3 (ipykernel)",
   "language": "python",
   "name": "python3"
  },
  "language_info": {
   "codemirror_mode": {
    "name": "ipython",
    "version": 3
   },
   "file_extension": ".py",
   "mimetype": "text/x-python",
   "name": "python",
   "nbconvert_exporter": "python",
   "pygments_lexer": "ipython3",
   "version": "3.12.7"
  }
 },
 "nbformat": 4,
 "nbformat_minor": 5
}
